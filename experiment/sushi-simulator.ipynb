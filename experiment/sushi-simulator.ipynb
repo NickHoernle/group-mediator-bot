{
 "cells": [
  {
   "cell_type": "code",
   "execution_count": 1,
   "metadata": {
    "collapsed": true
   },
   "outputs": [],
   "source": [
    "%matplotlib inline\n",
    "import pandas as pd\n",
    "import numpy as np\n",
    "import matplotlib.pyplot as plt\n",
    "from datetime import timedelta\n",
    "import datetime\n",
    "import seaborn as sns\n",
    "import itertools\n",
    "from scipy.linalg import block_diag\n",
    "import time\n",
    "import os\n",
    "import pickle\n",
    "from scipy.misc import comb"
   ]
  },
  {
   "cell_type": "code",
   "execution_count": 2,
   "metadata": {
    "collapsed": true
   },
   "outputs": [],
   "source": [
    "from __future__ import print_function\n",
    "\n",
    "import sys\n",
    "\n",
    "import cplex\n",
    "from cplex.exceptions import CplexError"
   ]
  },
  {
   "cell_type": "code",
   "execution_count": 3,
   "metadata": {
    "collapsed": false
   },
   "outputs": [],
   "source": [
    "sushi_score = np.loadtxt('./sushi3-2016/sushi3b.5000.10.score')"
   ]
  },
  {
   "cell_type": "code",
   "execution_count": 4,
   "metadata": {
    "collapsed": false
   },
   "outputs": [
    {
     "name": "stdout",
     "output_type": "stream",
     "text": [
      "[-1.  0. -1.  4.  2. -1. -1. -1. -1. -1. -1. -1.  1. -1. -1. -1. -1. -1.\n",
      " -1. -1. -1. -1. -1. -1. -1. -1. -1. -1. -1. -1. -1. -1. -1. -1. -1. -1.\n",
      " -1. -1. -1. -1. -1. -1. -1. -1.  1. -1. -1. -1. -1. -1. -1. -1. -1. -1.\n",
      " -1. -1. -1. -1.  4. -1.  2. -1. -1. -1. -1. -1. -1.  0. -1. -1. -1. -1.\n",
      " -1. -1.  0. -1. -1. -1. -1. -1. -1. -1. -1. -1. -1. -1. -1.  2. -1. -1.\n",
      " -1. -1. -1. -1. -1. -1. -1. -1. -1. -1.]\n",
      "(array([ 1,  3,  4, 12, 44, 58, 60, 67, 74, 87]),)\n"
     ]
    }
   ],
   "source": [
    "print(sushi_score[0])\n",
    "print(np.where(sushi_score[0]!=-1))"
   ]
  },
  {
   "cell_type": "code",
   "execution_count": 56,
   "metadata": {
    "collapsed": false
   },
   "outputs": [],
   "source": []
  },
  {
   "cell_type": "code",
   "execution_count": 64,
   "metadata": {
    "collapsed": false
   },
   "outputs": [],
   "source": [
    "sushi_order = np.loadtxt('./sushi3-2016/sushi3b.5000.10.order', skiprows=1)\n",
    "flips = []\n",
    "for s in range(len(sushi_order)):\n",
    "    rating = sorted(zip(np.take(sushi_score[s], np.where(sushi_score[s]!=-1)[0]), np.where(sushi_score[s]!=-1)[0]), reverse=True)\n",
    "    ranking = sushi_order[s][2:]\n",
    "    flips.append(countflips(ranking,rating))"
   ]
  },
  {
   "cell_type": "code",
   "execution_count": 68,
   "metadata": {
    "collapsed": false
   },
   "outputs": [
    {
     "data": {
      "image/png": "[encoded data removed]",
      "text/plain": [
       "<matplotlib.figure.Figure at 0x115384890>"
      ]
     },
     "metadata": {},
     "output_type": "display_data"
    }
   ],
   "source": [
    "plt.hist(flips, bins=40)\n",
    "plt.show()"
   ]
  },
  {
   "cell_type": "code",
   "execution_count": 58,
   "metadata": {
    "collapsed": false
   },
   "outputs": [
    {
     "name": "stdout",
     "output_type": "stream",
     "text": [
      "[(4.0, 58), (4.0, 3), (2.0, 87), (2.0, 60), (2.0, 4), (1.0, 44), (1.0, 12), (0.0, 74), (0.0, 67), (0.0, 1)]\n",
      "[ 58.   4.   3.  44.  87.  60.  67.   1.  12.  74.]\n"
     ]
    }
   ],
   "source": [
    "print(rating)\n",
    "print(ranking)"
   ]
  },
  {
   "cell_type": "code",
   "execution_count": 63,
   "metadata": {
    "collapsed": false
   },
   "outputs": [],
   "source": [
    "def countflips(ranking, rating):\n",
    "    counter = 0\n",
    "    i=0\n",
    "    while i<len(ranking):\n",
    "        if ranking[i]==rating[i][1]:\n",
    "            i+=1\n",
    "        else:\n",
    "            j = np.where([x[1] for x in rating]==ranking[i])[0][0]\n",
    "#             print(j)\n",
    "            for k in range(j,i,-1):\n",
    "                tmp = rating[k-1]\n",
    "                rating[k-1] = rating[k]\n",
    "                rating[k] = tmp\n",
    "                if rating[k][0]!=rating[k-1][0]:\n",
    "                    counter+=1\n",
    "#                     print(\"adding 1\")\n",
    "#                 print (ranking[k],ranking[k-1])\n",
    "#                 print (rating[k],rating[k-1])\n",
    "#             print (rating)\n",
    "#             print (ranking)\n",
    "#             print (counter)\n",
    "            i+=1\n",
    "    return counter"
   ]
  },
  {
   "cell_type": "code",
   "execution_count": 61,
   "metadata": {
    "collapsed": false
   },
   "outputs": [
    {
     "data": {
      "text/plain": [
       "5"
      ]
     },
     "execution_count": 61,
     "metadata": {},
     "output_type": "execute_result"
    }
   ],
   "source": [
    "counter"
   ]
  },
  {
   "cell_type": "code",
   "execution_count": null,
   "metadata": {
    "collapsed": true
   },
   "outputs": [],
   "source": []
  }
 ],
 "metadata": {
  "anaconda-cloud": {},
  "kernelspec": {
   "display_name": "Python [conda env:py27]",
   "language": "python",
   "name": "conda-env-py27-py"
  },
  "language_info": {
   "codemirror_mode": {
    "name": "ipython",
    "version": 2
   },
   "file_extension": ".py",
   "mimetype": "text/x-python",
   "name": "python",
   "nbconvert_exporter": "python",
   "pygments_lexer": "ipython2",
   "version": "2.7.12"
  }
 },
 "nbformat": 4,
 "nbformat_minor": 0
}
