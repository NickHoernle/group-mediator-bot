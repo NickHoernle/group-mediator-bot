{
 "cells": [
  {
   "cell_type": "code",
   "execution_count": 18,
   "metadata": {
    "collapsed": true
   },
   "outputs": [],
   "source": [
    "import cvxopt\n",
    "# import cvxopt.glpk\n",
    "from cvxopt import matrix, solvers\n",
    "%matplotlib inline\n",
    "import pandas as pd\n",
    "import numpy as np\n",
    "import matplotlib.pyplot as plt\n",
    "from datetime import timedelta\n",
    "import datetime\n",
    "import seaborn as sns\n",
    "import itertools\n",
    "from scipy.linalg import block_diag\n",
    "import time\n",
    "import os\n",
    "import pickle\n",
    "from scipy.misc import comb"
   ]
  },
  {
   "cell_type": "code",
   "execution_count": 170,
   "metadata": {
    "collapsed": true
   },
   "outputs": [],
   "source": [
    "profile = np.array([list(np.random.permutation(range(1,11))) for i in range(5)])"
   ]
  },
  {
   "cell_type": "code",
   "execution_count": 259,
   "metadata": {
    "collapsed": false
   },
   "outputs": [
    {
     "data": {
      "text/plain": [
       "array([[ 2,  4,  3,  1,  9,  7,  8,  6,  5, 10],\n",
       "       [10,  4,  1,  8,  5,  9,  7,  2,  3,  6],\n",
       "       [ 2,  3,  8, 10,  7,  1,  4,  9,  5,  6],\n",
       "       [10,  5,  4,  7,  9,  2,  1,  8,  6,  3],\n",
       "       [ 7,  1,  4,  2,  9,  6,  8, 10,  3,  5]])"
      ]
     },
     "execution_count": 259,
     "metadata": {},
     "output_type": "execute_result"
    }
   ],
   "source": [
    "profile"
   ]
  },
  {
   "cell_type": "code",
   "execution_count": 179,
   "metadata": {
    "collapsed": false
   },
   "outputs": [
    {
     "name": "stdout",
     "output_type": "stream",
     "text": [
      "[2,4,3,1,9,7,8,6,5,10;10,4,1,8,5,9,7,2,3,6;2,3,8,10,7,1,4,9,5,6;10,5,4,7,9,2,1,8,6,3;7,1,4,2,9,6,8,10,3,5]\n"
     ]
    }
   ],
   "source": [
    "stringmatrix = '['\n",
    "for i in range(profile.shape[0]):\n",
    "    for j in range(profile.shape[1]):\n",
    "        if j!=profile.shape[1]-1:\n",
    "            stringmatrix+=str(profile[i][j])+','\n",
    "        else:\n",
    "            stringmatrix+=str(profile[i][j])+';'\n",
    "stringmatrix=stringmatrix[:-1]\n",
    "stringmatrix+=']'\n",
    "print (stringmatrix)"
   ]
  },
  {
   "cell_type": "code",
   "execution_count": 155,
   "metadata": {
    "collapsed": false
   },
   "outputs": [],
   "source": [
    "n,m = len(profile), len(profile[0])"
   ]
  },
  {
   "cell_type": "code",
   "execution_count": 156,
   "metadata": {
    "collapsed": false
   },
   "outputs": [
    {
     "data": {
      "text/plain": [
       "(5, 10)"
      ]
     },
     "execution_count": 156,
     "metadata": {},
     "output_type": "execute_result"
    }
   ],
   "source": [
    "n, m"
   ]
  },
  {
   "cell_type": "code",
   "execution_count": 157,
   "metadata": {
    "collapsed": true
   },
   "outputs": [],
   "source": [
    "k=3"
   ]
  },
  {
   "cell_type": "code",
   "execution_count": 42,
   "metadata": {
    "collapsed": true
   },
   "outputs": [],
   "source": [
    "# profile = np.array([[1,2,3],[2,3,1],[1,3,2]])\n",
    "# m=3\n",
    "# n=3\n",
    "# k=2"
   ]
  },
  {
   "cell_type": "code",
   "execution_count": 158,
   "metadata": {
    "collapsed": false
   },
   "outputs": [
    {
     "data": {
      "text/plain": [
       "11"
      ]
     },
     "execution_count": 158,
     "metadata": {},
     "output_type": "execute_result"
    }
   ],
   "source": [
    "from functools import partial\n",
    "def Ind(m,k,i,r):\n",
    "    return (i-1)*(m-k+1)+r+m\n",
    "IndY = partial(Ind,m,k)\n",
    "IndY(1,1)"
   ]
  },
  {
   "cell_type": "code",
   "execution_count": 196,
   "metadata": {
    "collapsed": false
   },
   "outputs": [
    {
     "data": {
      "text/plain": [
       "2"
      ]
     },
     "execution_count": 196,
     "metadata": {},
     "output_type": "execute_result"
    }
   ],
   "source": [
    "profile[0,0]"
   ]
  },
  {
   "cell_type": "code",
   "execution_count": 160,
   "metadata": {
    "collapsed": false
   },
   "outputs": [
    {
     "ename": "SyntaxError",
     "evalue": "invalid syntax (<ipython-input-160-5ac2c467ac66>, line 2)",
     "output_type": "error",
     "traceback": [
      "\u001b[0;36m  File \u001b[0;32m\"<ipython-input-160-5ac2c467ac66>\"\u001b[0;36m, line \u001b[0;32m2\u001b[0m\n\u001b[0;31m    print np.array([list(int(y)+1 for y in x) for x in list(combinations(range(m),2))])\u001b[0m\n\u001b[0m           ^\u001b[0m\n\u001b[0;31mSyntaxError\u001b[0m\u001b[0;31m:\u001b[0m invalid syntax\n"
     ]
    }
   ],
   "source": [
    "from itertools import combinations\n",
    "print np.array([list(int(y)+1 for y in x) for x in list(combinations(range(m),2))])"
   ]
  },
  {
   "cell_type": "code",
   "execution_count": 247,
   "metadata": {
    "collapsed": false
   },
   "outputs": [],
   "source": [
    "nIneq  = int(n*((m-k+2)*(m-k+3)/2-1)+comb(m,k))\n",
    "nEq = 1\n",
    "nVar = int(m+n*(m-k+1)+1)\n",
    "Aineq = np.zeros((nIneq, nVar))\n",
    "bineq = np.zeros((nIneq, 1))\n",
    "Aeq = np.zeros((nEq, nVar))\n",
    "beq = np.zeros((nEq, 1))\n",
    "f = np.zeros((nVar, 1))\n",
    "ctype = 'B'*(nVar-1)+'C'\n",
    "f[-1] = 1\n",
    "Aeq[0][0:m] = 1\n",
    "beq = k\n",
    "countIneq = 1\n",
    "\n",
    "for i in range(1,n+1):\n",
    "    for r in range(1,m-k+2):\n",
    "        for j in range(1,r+1):\n",
    "            Aineq[countIneq-1, IndY(i,r)-1] = 1\n",
    "#             print(IndY(i,r))\n",
    "#             print(Aineq)\n",
    "            Aineq[countIneq-1, profile[i-1,j-1]-1] = 1\n",
    "#             print (Aineq)\n",
    "            bineq[countIneq-1] = 1\n",
    "            countIneq = countIneq + 1\n",
    "        Aineq[countIneq-1, IndY(i,r)-1] = -1\n",
    "        for j in range(1,r+1):\n",
    "            Aineq[countIneq-1, profile[i-1,j-1]-1] = -1\n",
    "        bineq[countIneq-1] = -1\n",
    "        countIneq = countIneq + 1\n",
    "list_T = np.array([list(int(y)+1 for y in x) for x in list(combinations(range(m),k))])\n",
    "for indT in range(1, list_T.shape[0]+1):\n",
    "    T = list_T[indT-1]\n",
    "    first_indices_T = np.array([[i for i,elem in enumerate(x) if x[i] in T][0] + 1 for x in profile])\n",
    "    Aineq[countIneq-1, nVar-1] = -1\n",
    "    for i in range(1,n+1):\n",
    "        Aineq[countIneq-1,IndY(i,first_indices_T[i-1])-1] = 1./first_indices_T[i-1]\n",
    "    countIneq = countIneq + 1"
   ]
  },
  {
   "cell_type": "code",
   "execution_count": 248,
   "metadata": {
    "collapsed": true
   },
   "outputs": [],
   "source": [
    "from __future__ import print_function\n",
    "\n",
    "import sys\n",
    "\n",
    "import cplex\n",
    "from cplex.exceptions import CplexError"
   ]
  },
  {
   "cell_type": "code",
   "execution_count": 257,
   "metadata": {
    "collapsed": false
   },
   "outputs": [],
   "source": [
    "# data common to all populateby functions\n",
    "my_obj = list(i[0] for i in f)\n",
    "my_ub = [cplex.infinity]*len(f)\n",
    "my_lb = [0.0]*len(f)\n",
    "my_ctype = ctype\n",
    "my_colnames = ['x{}'.format(i) for i in range(len(f))]\n",
    "my_rhs = list(i[0] for i in bineq) + [float(beq)]\n",
    "my_rownames = ['r{}'.format(i) for i in range(nIneq+nEq)]\n",
    "my_sense = 'L'*nIneq+'E'*nEq\n",
    "\n",
    "def populatebynonzero(prob):\n",
    "    prob.objective.set_sense(prob.objective.sense.minimize)\n",
    "\n",
    "    prob.linear_constraints.add(rhs=my_rhs, senses=my_sense,\n",
    "                                names=my_rownames)\n",
    "    prob.variables.add(obj=my_obj, lb=my_lb, ub=my_ub, types=my_ctype,\n",
    "                       names=my_colnames)\n",
    "\n",
    "    rows, cols = np.nonzero(np.concatenate((Aineq,Aeq)))\n",
    "    rows=list(rows)\n",
    "    cols=list(cols)\n",
    "    vals = [np.concatenate((Aineq,Aeq))[rows[i],cols[i]] for i in range(len(rows))]\n",
    "\n",
    "    prob.linear_constraints.set_coefficients(zip(rows, cols, vals))\n",
    "\n",
    "\n",
    "def mipex1(pop_method):\n",
    "\n",
    "    try:\n",
    "        my_prob = cplex.Cplex()\n",
    "\n",
    "        handle = populatebynonzero(my_prob)\n",
    "        \n",
    "        my_prob.solve()\n",
    "    except CplexError as exc:\n",
    "        print(exc)\n",
    "        return\n",
    "\n",
    "    print()\n",
    "    # solution.get_status() returns an integer code\n",
    "    print(\"Solution status = \", my_prob.solution.get_status(), \":\", end=' ')\n",
    "    # the following line prints the corresponding string\n",
    "    print(my_prob.solution.status[my_prob.solution.get_status()])\n",
    "    print(\"Solution value  = \", my_prob.solution.get_objective_value())\n",
    "\n",
    "    numcols = my_prob.variables.get_num()\n",
    "    numrows = my_prob.linear_constraints.get_num()\n",
    "\n",
    "    slack = my_prob.solution.get_linear_slacks()\n",
    "    x = my_prob.solution.get_values()\n",
    "\n",
    "#     for j in range(numrows):\n",
    "#         print(\"Row %d:  Slack = %10f\" % (j, slack[j]))\n",
    "    for j in range(m):\n",
    "        print(\"Column %d:  Value = %10f\" % (j, x[j]))\n",
    "    print (\"Column %d:  Value = %10f\" % (numcols-1, x[numcols-1]))"
   ]
  },
  {
   "cell_type": "code",
   "execution_count": 258,
   "metadata": {
    "collapsed": false
   },
   "outputs": [
    {
     "name": "stdout",
     "output_type": "stream",
     "text": [
      "CPXPARAM_Read_DataCheck                          1\n",
      "CPXPARAM_Read_APIEncoding                        \"UTF-8\"\n",
      "CPXPARAM_MIP_Strategy_CallbackReducedLP          0\n"
     ]
    },
    {
     "name": "stderr",
     "output_type": "stream",
     "text": [
      "Warning:  Non-integral bounds for integer variables rounded.\n"
     ]
    },
    {
     "name": "stdout",
     "output_type": "stream",
     "text": [
      "Tried aggregator 2 times.\n",
      "MIP Presolve eliminated 35 rows and 0 columns.\n",
      "Aggregator did 5 substitutions.\n",
      "Reduced MIP has 301 rows, 46 columns, and 1062 nonzeros.\n",
      "Reduced MIP has 45 binaries, 0 generals, 0 SOSs, and 0 indicators.\n",
      "Presolve time = 0.01 sec. (1.24 ticks)\n",
      "Found incumbent of value 0.000000 after 0.02 sec. (1.39 ticks)\n",
      "\n",
      "Root node processing (before b&c):\n",
      "  Real time             =    0.02 sec. (1.40 ticks)\n",
      "Parallel b&c, 4 threads:\n",
      "  Real time             =    0.00 sec. (0.00 ticks)\n",
      "  Sync time (average)   =    0.00 sec.\n",
      "  Wait time (average)   =    0.00 sec.\n",
      "                          ------------\n",
      "Total (root+branch&cut) =    0.02 sec. (1.40 ticks)\n",
      "\n",
      "Solution status =  101 : MIP_optimal\n",
      "Solution value  =  0.0\n",
      "Column 0:  Value =   0.000000\n",
      "Column 1:  Value =   1.000000\n",
      "Column 2:  Value =   0.000000\n",
      "Column 3:  Value =   0.000000\n",
      "Column 4:  Value =   0.000000\n",
      "Column 5:  Value =   0.000000\n",
      "Column 6:  Value =   1.000000\n",
      "Column 7:  Value =   0.000000\n",
      "Column 8:  Value =   0.000000\n",
      "Column 9:  Value =   1.000000\n",
      "Column 50:  Value =   0.000000\n"
     ]
    }
   ],
   "source": [
    "mipex1('n')"
   ]
  },
  {
   "cell_type": "code",
   "execution_count": 197,
   "metadata": {
    "collapsed": false
   },
   "outputs": [],
   "source": [
    "matlab = np.loadtxt('../nisarg_code/testmatrix', delimiter=',')"
   ]
  },
  {
   "cell_type": "code",
   "execution_count": 198,
   "metadata": {
    "collapsed": false
   },
   "outputs": [
    {
     "name": "stdout",
     "output_type": "stream",
     "text": [
      "[[ 0.  1.  0. ...,  0.  0.  0.]\n",
      " [ 0. -1.  0. ...,  0.  0.  0.]\n",
      " [ 0.  1.  0. ...,  0.  0.  0.]\n",
      " ..., \n",
      " [ 0.  0.  0. ...,  0.  0. -1.]\n",
      " [ 0.  0.  0. ...,  0.  0. -1.]\n",
      " [ 0.  0.  0. ...,  0.  0. -1.]]\n"
     ]
    }
   ],
   "source": [
    "print(matlab)"
   ]
  },
  {
   "cell_type": "code",
   "execution_count": 226,
   "metadata": {
    "collapsed": false
   },
   "outputs": [
    {
     "name": "stdout",
     "output_type": "stream",
     "text": [
      "[[ 0.  1.  0. ...,  0.  0.  0.]\n",
      " [ 0. -1.  0. ...,  0.  0.  0.]\n",
      " [ 0.  1.  0. ...,  0.  0.  0.]\n",
      " ..., \n",
      " [ 0.  0.  0. ...,  0.  0. -1.]\n",
      " [ 0.  0.  0. ...,  0.  0. -1.]\n",
      " [ 0.  0.  0. ...,  0.  0. -1.]]\n"
     ]
    }
   ],
   "source": [
    "print(Aineq)"
   ]
  },
  {
   "cell_type": "code",
   "execution_count": null,
   "metadata": {
    "collapsed": true
   },
   "outputs": [],
   "source": []
  }
 ],
 "metadata": {
  "anaconda-cloud": {},
  "kernelspec": {
   "display_name": "Python [conda env:py27]",
   "language": "python",
   "name": "conda-env-py27-py"
  },
  "language_info": {
   "codemirror_mode": {
    "name": "ipython",
    "version": 2
   },
   "file_extension": ".py",
   "mimetype": "text/x-python",
   "name": "python",
   "nbconvert_exporter": "python",
   "pygments_lexer": "ipython2",
   "version": "2.7.12"
  }
 },
 "nbformat": 4,
 "nbformat_minor": 0
}
